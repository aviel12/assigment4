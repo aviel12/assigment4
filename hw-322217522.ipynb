{
 "cells": [
  {
   "cell_type": "code",
   "execution_count": 133,
   "id": "c3ec2178",
   "metadata": {
    "scrolled": true
   },
   "outputs": [],
   "source": [
    "import requests\n",
    "import json"
   ]
  },
  {
   "cell_type": "code",
   "execution_count": 134,
   "id": "46dc68bf",
   "metadata": {},
   "outputs": [],
   "source": [
    "dict_cities = {}\n",
    "cities_km = {}\n",
    "origins = 'Jerusalem'\n",
    "api_key = your_api\n",
    "info = 'distance : %s , duration : %s , latitude : %s , longitude : %s'\n",
    "color = \"\\033[1;31;35m %s\"\n",
    "destinations = [city.rstrip() for city in open('dests.txt','r')]"
   ]
  },
  {
   "cell_type": "markdown",
   "id": "e372acd7",
   "metadata": {},
   "source": [
    "# We request the information for each city by sending a get request using the API and enter it in the dictionary"
   ]
  },
  {
   "cell_type": "code",
   "execution_count": 136,
   "id": "5455860f",
   "metadata": {},
   "outputs": [],
   "source": [
    "for city in destinations:\n",
    "    \n",
    "    dict_cities[city] = []\n",
    "    \n",
    "    # 2 links of url for info\n",
    "    url_distancematrix  = \"https://maps.googleapis.com/maps/api/distancematrix/json?destinations=%s&origins=%s&key=%s\" % (city,origins,api_key)\n",
    "    url_geocode  = 'https://maps.googleapis.com/maps/api/geocode/json?address=%s&key=%s' % (city,api_key)\n",
    "\n",
    "    # get the information we want\n",
    "    response_distancematrix = requests.get(url_distancematrix).json()\n",
    "    response_geocode = requests.get(url_geocode).json() \n",
    "    \n",
    "    #find the parameters from json file\n",
    "    distance = response_distancematrix['rows'][0]['elements'][0]['distance']['text']\n",
    "    duration = response_distancematrix['rows'][0]['elements'][0]['duration']['text']\n",
    "    d_spt = duration.split(' ')\n",
    "    if 'day' in d_spt:\n",
    "        duration = '{} hours'.format(int(d_spt[0])*24+int(d_spt[2]))\n",
    "    elif 'days' in d_spt:\n",
    "        duration = '{} hours'.format(int(d_spt[0])*24+int(d_spt[2]))\n",
    "    else :\n",
    "        pass\n",
    "    latitude = response_geocode['results'][0]['geometry']['location']['lat']\n",
    "    longitude = response_geocode['results'][0]['geometry']['location']['lng']\n",
    "    \n",
    "    cities_km[city] = distance\n",
    "    updated = info % (distance,duration,latitude,longitude)\n",
    "    dict_cities[city] = tuple(map(str, updated.split(', ')))"
   ]
  },
  {
   "cell_type": "code",
   "execution_count": 137,
   "id": "dd2ec690",
   "metadata": {},
   "outputs": [],
   "source": [
    "# Find the furthest cities from Jerusalem and highlight them\n",
    "\n",
    "s_cities = sorted(cities_km.items(), key =lambda kv:(kv[1], kv[0]) , reverse=True)[:3]\n",
    "dict_cities[color % 'Farthest_cities :'] = color % s_cities"
   ]
  },
  {
   "cell_type": "code",
   "execution_count": 138,
   "id": "bacdb135",
   "metadata": {},
   "outputs": [
    {
     "name": "stdout",
     "output_type": "stream",
     "text": [
      "Our Dictionary:\n",
      "\n",
      "Istanbul (('distance : 1,809 km ', 'duration : 20 hours 35 mins ', 'latitude : 41.0082376 ', 'longitude : 28.9783589'))\n",
      "Amsterdam (('distance : 4,528 km ', 'duration : 47 hours ', 'latitude : 52.3675734 ', 'longitude : 4.9041389'))\n",
      "Valletta (('distance : 3,789 km ', 'duration : 51 hours ', 'latitude : 35.8989085 ', 'longitude : 14.5145528'))\n",
      "Basel (('distance : 4,091 km ', 'duration : 44 hours ', 'latitude : 47.5595986 ', 'longitude : 7.5885761'))\n",
      "Doha (('distance : 2,105 km ', 'duration : 21 hours 56 mins ', 'latitude : 25.2854473 ', 'longitude : 51.53103979999999'))\n",
      "\u001b[1;31;35m Farthest_cities : (\u001b[1;31;35m [('Amsterdam', '4,528 km'), ('Basel', '4,091 km'), ('Valletta', '3,789 km')])\n"
     ]
    }
   ],
   "source": [
    "# Print the text of the dictionary in a more readable way \n",
    "\n",
    "def Beautiful_dictionary_printing(dct):\n",
    "    print('Our Dictionary:\\n')\n",
    "    for item, amount in dct.items():  # dct.iteritems() in Python 2\n",
    "        print(\"{} ({})\".format(item, amount))\n",
    "\n",
    "Beautiful_dictionary_printing(dict_cities)"
   ]
  }
 ],
 "metadata": {
  "kernelspec": {
   "display_name": "Python 3 (ipykernel)",
   "language": "python",
   "name": "python3"
  },
  "language_info": {
   "codemirror_mode": {
    "name": "ipython",
    "version": 3
   },
   "file_extension": ".py",
   "mimetype": "text/x-python",
   "name": "python",
   "nbconvert_exporter": "python",
   "pygments_lexer": "ipython3",
   "version": "3.9.7"
  }
 },
 "nbformat": 4,
 "nbformat_minor": 5
}
